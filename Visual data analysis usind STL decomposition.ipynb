{
 "cells": [
  {
   "cell_type": "markdown",
   "id": "37124a60",
   "metadata": {},
   "source": [
    "# Visual data analysis using STL decomposition"
   ]
  },
  {
   "cell_type": "markdown",
   "id": "ff68878a",
   "metadata": {},
   "source": [
    "## Environment setup"
   ]
  },
  {
   "cell_type": "markdown",
   "id": "6c3ccb30",
   "metadata": {},
   "source": [
    "For interactive plots"
   ]
  },
  {
   "cell_type": "code",
   "execution_count": null,
   "id": "f2ecb417",
   "metadata": {},
   "outputs": [],
   "source": [
    "%matplotlib notebook"
   ]
  },
  {
   "cell_type": "markdown",
   "id": "a50e42f5",
   "metadata": {},
   "source": [
    "Libraries"
   ]
  },
  {
   "cell_type": "code",
   "execution_count": 22,
   "id": "b316a2a1",
   "metadata": {},
   "outputs": [],
   "source": [
    "import pandas as pd\n",
    "import numpy as np\n",
    "import matplotlib.pyplot as plt\n",
    "from  sklearn import model_selection\n",
    "import datetime\n",
    "from tqdm import tqdm\n",
    "\n",
    "import statsmodels.api as sm\n",
    "from multiprocessing import Pool\n"
   ]
  },
  {
   "cell_type": "markdown",
   "id": "67616701",
   "metadata": {},
   "source": [
    "## Data setup"
   ]
  },
  {
   "cell_type": "markdown",
   "id": "15560a72",
   "metadata": {},
   "source": [
    "Reading data from file"
   ]
  },
  {
   "cell_type": "code",
   "execution_count": 4,
   "id": "68864421",
   "metadata": {},
   "outputs": [],
   "source": [
    "raw_data = pd.read_excel('2016-2020.xlsx')"
   ]
  },
  {
   "cell_type": "markdown",
   "id": "4cc761e1",
   "metadata": {},
   "source": [
    "Data processing\n",
    "- processing time to EPOCH\n",
    "- removing unlocalized data\n",
    "- removing data without a proper type"
   ]
  },
  {
   "cell_type": "code",
   "execution_count": 5,
   "id": "f03ce3ce",
   "metadata": {},
   "outputs": [],
   "source": [
    "data = raw_data\n",
    "\n",
    "data = data[(data.Z < 0)]\n",
    "\n",
    "data = data[data.TYP != '0']\n",
    "data = data.assign(\n",
    "    TIME = lambda dataframe: dataframe.apply(lambda x: datetime.datetime.fromisoformat(f'{x.DATA.replace(\".\",\"-\")} {str(x.GODZ).rjust(2,\"0\")}:{str(x.MIN).rjust(2,\"0\")}:{str(x.SEK).rjust(2,\"0\")}').timestamp(),axis=1)\n",
    ")\n",
    "\n",
    "data = data.sort_values(by='TIME').reset_index(drop=True)\n"
   ]
  },
  {
   "cell_type": "markdown",
   "id": "a53e5988",
   "metadata": {},
   "source": [
    "### Analisys"
   ]
  },
  {
   "cell_type": "markdown",
   "id": "e5cf7a23",
   "metadata": {},
   "source": [
    "Function for getting time series of seismic activity from given event data"
   ]
  },
  {
   "cell_type": "code",
   "execution_count": 6,
   "id": "7c6f540e",
   "metadata": {},
   "outputs": [],
   "source": [
    "def get_activity_time_series(data,  t_min = None, t_max = None, dt=3600):\n",
    "\n",
    "    if t_max is None:\n",
    "        t_max = max(data.TIME)\n",
    "    if t_min is None:\n",
    "        t_min = min(data.TIME)\n",
    "\n",
    "    t = pd.date_range(datetime.datetime.fromtimestamp(t_min),datetime.datetime.fromtimestamp(t_max), freq='1h')\n",
    "    values = []\n",
    "    i = 0\n",
    "    for tt in tqdm(t):\n",
    "        if i < len(data) and data.TIME[i] < tt.timestamp():\n",
    "            values.append(data.ENG[i])\n",
    "            i+=1\n",
    "        else:\n",
    "            values.append(0)\n",
    "    \n",
    "    return pd.Series(values, index=t)\n",
    "\n"
   ]
  },
  {
   "cell_type": "markdown",
   "id": "a85e4595",
   "metadata": {},
   "source": [
    "Function for calculating STL decomposition and ploting it"
   ]
  },
  {
   "cell_type": "code",
   "execution_count": 7,
   "id": "d2a5a2e6",
   "metadata": {},
   "outputs": [],
   "source": [
    "def create_stl_plot(series,title=None):\n",
    "    \n",
    "    res = sm.tsa.seasonal_decompose(series, period=24*365, two_sided=True)\n",
    "    fig, axs = plt.subplots(4,gridspec_kw=dict(hspace=0.5), figsize=(10, 10))\n",
    "    \n",
    "    for a in axs:\n",
    "        a.set_xlim(min(series.keys()),max(series.keys()))\n",
    "    \n",
    "    observed = res.observed\n",
    "    trend = res.trend\n",
    "    seasonal = res.seasonal\n",
    "    resid = res.resid\n",
    "    \n",
    "    axs[0].plot(observed,color='orange')\n",
    "    \n",
    "    axs[1].plot(trend.rolling(window=1250).mean(),color='green')\n",
    "    \n",
    "    axs[2].plot(seasonal)\n",
    "    \n",
    "    resid = resid.abs()\n",
    "    \n",
    "    axs[3].scatter(resid.keys(),resid.values, s=3, color='red' )\n",
    "    \n",
    "    axs[0].title.set_text('Energia wstrząsu')\n",
    "    axs[1].title.set_text('Trend')\n",
    "    axs[2].title.set_text('Sezonowość wystąpienia wstrząsu')\n",
    "    axs[3].title.set_text('Energia wstrząsów, które wystapiły i nie wykazywały sie sezonowością')\n",
    "\n",
    "    axs[0].set_ylabel(\"J\",loc='top',rotation='horizontal')\n",
    "    axs[1].set_ylabel(\"J\",loc='top',rotation='horizontal')\n",
    "    axs[2].set_ylabel(\"J\",loc='top',rotation='horizontal')\n",
    "    axs[3].set_ylabel(\"J\",loc='top',rotation='horizontal')\n",
    "    \n",
    "    if title:\n",
    "        plt.suptitle(title)\n",
    "    t = title.replace('/','|')\n",
    "    plt.savefig(f\"{t}.png\")"
   ]
  },
  {
   "cell_type": "markdown",
   "id": "8b7d9b6f",
   "metadata": {},
   "source": [
    "Function for faster calculations of series for groups of datasets"
   ]
  },
  {
   "cell_type": "code",
   "execution_count": 17,
   "id": "6a28886c",
   "metadata": {},
   "outputs": [],
   "source": [
    "def helper(args):\n",
    "        return get_activity_time_series(*args)\n",
    "\n",
    "def get_activity_time_series_from_groups(groups, t_min, t_max):\n",
    "\n",
    "    with Pool(16) as p:\n",
    "        serie = p.map(helper, list(zip(groups.values(), [t_min]* len(groups), [t_max]*len(groups))))\n",
    "    return serie\n",
    "        "
   ]
  },
  {
   "cell_type": "markdown",
   "id": "5fbc9df6",
   "metadata": {},
   "source": [
    "Start and end of the dataset period"
   ]
  },
  {
   "cell_type": "code",
   "execution_count": 18,
   "id": "18c0e9cb",
   "metadata": {},
   "outputs": [],
   "source": [
    "t_min = min(data.TIME)\n",
    "t_max = max(data.TIME)"
   ]
  },
  {
   "cell_type": "markdown",
   "id": "085591ac",
   "metadata": {},
   "source": [
    "Analysis of data grouped by region"
   ]
  },
  {
   "cell_type": "code",
   "execution_count": 19,
   "id": "0efef8ca",
   "metadata": {},
   "outputs": [
    {
     "name": "stderr",
     "output_type": "stream",
     "text": [
      "100%|██████████| 43825/43825 [00:00<00:00, 72882.28it/s]\n",
      "100%|██████████| 43825/43825 [00:00<00:00, 70305.86it/s]\n",
      "100%|██████████| 43825/43825 [00:00<00:00, 65807.55it/s]\n"
     ]
    }
   ],
   "source": [
    "groups_by_region_grouping = data.groupby('REJON')\n",
    "groups_by_region = {k:groups_by_region_grouping.get_group(k).sort_values('TIME').reset_index(drop=True) for k in groups_by_region_grouping.groups}\n",
    "\n",
    "series_by_region = get_activity_time_series_from_groups(groups_by_region, t_min,t_max)\n",
    "\n",
    "for group,series in zip(groups_by_region.keys(),series_by_region):\n",
    "    create_stl_plot(series,group)"
   ]
  },
  {
   "cell_type": "markdown",
   "id": "22de4b29",
   "metadata": {},
   "source": [
    "Analysis of data grouped by branch"
   ]
  },
  {
   "cell_type": "code",
   "execution_count": null,
   "id": "f0dd7d9e",
   "metadata": {
    "scrolled": true
   },
   "outputs": [],
   "source": [
    "groups_by_branch_grouping = data.groupby('ODDZIAL')\n",
    "groups_by_branch = {k:groups_by_branch_grouping.get_group(k).sort_values('TIME').reset_index(drop=True) for k in groups_by_branch_grouping.groups}\n",
    "\n",
    "series_by_branch = get_activity_time_series_from_groups(groups_by_branch, t_min,t_max)\n",
    "\n",
    "for group,series in zip(groups_by_branch.keys(),series_by_branch):\n",
    "    create_stl_plot(series,group)"
   ]
  },
  {
   "cell_type": "markdown",
   "id": "1b759d2f",
   "metadata": {},
   "source": [
    "Analysis of data grouped by area\n"
   ]
  },
  {
   "cell_type": "code",
   "execution_count": 29,
   "id": "33b09a4a",
   "metadata": {},
   "outputs": [],
   "source": [
    "groups_by_area_grouping = data.groupby('POLE')\n",
    "groups_by_area = {k:groups_by_area_grouping.get_group(k).sort_values('TIME').reset_index(drop=True) for k in groups_by_area_grouping.groups}\n",
    "\n",
    "series_by_area = get_activity_time_series_from_groups(groups_by_area, t_min,t_max)\n",
    "\n",
    "for group,series in zip(groups_by_area.keys(),series_by_area):\n",
    "    create_stl_plot(series,group)"
   ]
  },
  {
   "cell_type": "code",
   "execution_count": null,
   "id": "cf92144b",
   "metadata": {},
   "outputs": [],
   "source": []
  }
 ],
 "metadata": {
  "kernelspec": {
   "display_name": "Python 3",
   "language": "python",
   "name": "python3"
  },
  "language_info": {
   "codemirror_mode": {
    "name": "ipython",
    "version": 3
   },
   "file_extension": ".py",
   "mimetype": "text/x-python",
   "name": "python",
   "nbconvert_exporter": "python",
   "pygments_lexer": "ipython3",
   "version": "3.9.4"
  }
 },
 "nbformat": 4,
 "nbformat_minor": 5
}
